{
 "cells": [
  {
   "cell_type": "code",
   "execution_count": 1,
   "metadata": {},
   "outputs": [
    {
     "data": {
      "text/html": [
       "<style>.container { width:100% !important; }</style>"
      ],
      "text/plain": [
       "<IPython.core.display.HTML object>"
      ]
     },
     "metadata": {},
     "output_type": "display_data"
    }
   ],
   "source": [
    "from IPython.core.display import display, HTML\n",
    "display(HTML(\"<style>.container { width:100% !important; }</style>\"))"
   ]
  },
  {
   "cell_type": "markdown",
   "metadata": {},
   "source": [
    "## Import Libraries from Keras Fashion Mnist"
   ]
  },
  {
   "cell_type": "code",
   "execution_count": 2,
   "metadata": {},
   "outputs": [
    {
     "name": "stderr",
     "output_type": "stream",
     "text": [
      "Using TensorFlow backend.\n"
     ]
    }
   ],
   "source": [
    "from keras.datasets import fashion_mnist\n",
    "\n",
    "(train_X,train_Y),(test_X,test_Y) = fashion_mnist.load_data()"
   ]
  },
  {
   "cell_type": "code",
   "execution_count": 3,
   "metadata": {},
   "outputs": [],
   "source": [
    "import numpy as np\n",
    "from keras.utils  import to_categorical\n",
    "import  matplotlib.pyplot as plt\n",
    "%matplotlib inline"
   ]
  },
  {
   "cell_type": "code",
   "execution_count": 4,
   "metadata": {},
   "outputs": [
    {
     "name": "stdout",
     "output_type": "stream",
     "text": [
      "Training Data Shape ::  (60000, 28, 28) [9 0 0 ... 3 0 5]\n"
     ]
    }
   ],
   "source": [
    "print(\"Training Data Shape :: \",train_X.shape , train_Y)"
   ]
  },
  {
   "cell_type": "code",
   "execution_count": 5,
   "metadata": {},
   "outputs": [
    {
     "name": "stdout",
     "output_type": "stream",
     "text": [
      "Testing Data Shape ::  (10000, 28, 28) [9 2 1 ... 8 1 5]\n"
     ]
    }
   ],
   "source": [
    "print(\"Testing Data Shape :: \",test_X.shape,test_Y)"
   ]
  },
  {
   "cell_type": "code",
   "execution_count": 6,
   "metadata": {},
   "outputs": [
    {
     "name": "stdout",
     "output_type": "stream",
     "text": [
      "Total Number of Outcomes ::  10\n",
      "Target Outcomes          ::  [0 1 2 3 4 5 6 7 8 9]\n"
     ]
    }
   ],
   "source": [
    "print(\"Total Number of Outcomes :: \", len(np.unique(train_Y)))\n",
    "print(\"Target Outcomes          :: \",np.unique(train_Y))"
   ]
  },
  {
   "cell_type": "code",
   "execution_count": 7,
   "metadata": {},
   "outputs": [
    {
     "data": {
      "text/plain": [
       "Text(0.5, 1.0, 'Ground Truth : 9')"
      ]
     },
     "execution_count": 7,
     "metadata": {},
     "output_type": "execute_result"
    },
    {
     "data": {
      "image/png": "[encoded data removed]",
      "text/plain": [
       "<Figure size 1440x720 with 2 Axes>"
      ]
     },
     "metadata": {
      "needs_background": "light"
     },
     "output_type": "display_data"
    }
   ],
   "source": [
    "plt.figure(figsize=(20,10))\n",
    "plt.subplot(121)\n",
    "plt.imshow(train_X[0,:,:], cmap='gray')\n",
    "plt.title(\"Ground Truth : {}\".format(train_Y[0]))\n",
    "\n",
    "# Display the first image in testing data\n",
    "plt.subplot(122)\n",
    "plt.imshow(test_X[0,:,:], cmap='gray')\n",
    "plt.title(\"Ground Truth : {}\".format(test_Y[0]))"
   ]
  },
  {
   "cell_type": "markdown",
   "metadata": {},
   "source": [
    "### Reshape 28*28 pixels to column vectors."
   ]
  },
  {
   "cell_type": "code",
   "execution_count": 8,
   "metadata": {},
   "outputs": [],
   "source": [
    "train_X = train_X.reshape(-1,28,28,1)"
   ]
  },
  {
   "cell_type": "code",
   "execution_count": 9,
   "metadata": {},
   "outputs": [],
   "source": [
    "train__X = train_X.astype(\"float32\")"
   ]
  },
  {
   "cell_type": "code",
   "execution_count": 10,
   "metadata": {},
   "outputs": [],
   "source": [
    "train_X = test_X.astype(\"float32\")"
   ]
  },
  {
   "cell_type": "markdown",
   "metadata": {},
   "source": [
    "## Data preprocessing"
   ]
  },
  {
   "cell_type": "code",
   "execution_count": 11,
   "metadata": {},
   "outputs": [],
   "source": [
    "## All the feature vectors are in the range of 0-255 so we must normalize them within the range of 0-1 \n",
    "## for better results and algorithmic operations\n",
    "train_X = train__X/255\n",
    "test_X = test_X/255"
   ]
  },
  {
   "cell_type": "code",
   "execution_count": 12,
   "metadata": {},
   "outputs": [],
   "source": [
    "# we have 60k training samples of (28*28) and 1 target variable of range (0-9)\n",
    "# we must perform one hot encoding on categorical target column for better results\n",
    "train_Y_one_hot = to_categorical(train_Y)\n",
    "test_Y_one_hot = to_categorical(test_Y)"
   ]
  },
  {
   "cell_type": "code",
   "execution_count": 13,
   "metadata": {
    "scrolled": true
   },
   "outputs": [
    {
     "name": "stdout",
     "output_type": "stream",
     "text": [
      "Original label: 9\n",
      "After conversion to one-hot: [0. 0. 0. 0. 0. 0. 0. 0. 0. 1.]\n"
     ]
    }
   ],
   "source": [
    "## check the shape of test_Y and train_Y now \n",
    "print('Original label:', train_Y[0])\n",
    "print('After conversion to one-hot:', train_Y_one_hot[0])"
   ]
  },
  {
   "cell_type": "markdown",
   "metadata": {},
   "source": [
    "### Break training set to Training and validation to check overfitting of the model before applying to Test data"
   ]
  },
  {
   "cell_type": "code",
   "execution_count": 14,
   "metadata": {
    "scrolled": true
   },
   "outputs": [],
   "source": [
    "from sklearn.model_selection import train_test_split\n",
    "train_X,valid_X,train_label,valid_label = train_test_split(train_X, train_Y_one_hot, test_size=0.2,random_state=13)"
   ]
  },
  {
   "cell_type": "code",
   "execution_count": 15,
   "metadata": {},
   "outputs": [
    {
     "name": "stdout",
     "output_type": "stream",
     "text": [
      "Train_X sample shape::  (48000, 28, 28, 1)\n",
      "Train_lable sample shape::  (48000, 10)\n",
      "\n",
      "\n",
      "Validation_X sample shape::  (12000, 28, 28, 1)\n",
      "Validation_lable sample shape::  (12000, 10)\n"
     ]
    }
   ],
   "source": [
    "print(\"Train_X sample shape:: \",train_X.shape)\n",
    "print(\"Train_lable sample shape:: \",train_label.shape)\n",
    "print(\"\\n\")\n",
    "print(\"Validation_X sample shape:: \",valid_X.shape)\n",
    "print(\"Validation_lable sample shape:: \",valid_label.shape)"
   ]
  },
  {
   "cell_type": "markdown",
   "metadata": {},
   "source": [
    "### Model the Data"
   ]
  },
  {
   "cell_type": "code",
   "execution_count": 16,
   "metadata": {},
   "outputs": [],
   "source": [
    "import keras\n",
    "from keras.models import Sequential,Input,Model\n",
    "from keras.layers import Dense, Dropout, Flatten\n",
    "from keras.layers import Conv2D, MaxPooling2D\n",
    "from keras.layers.normalization import BatchNormalization\n",
    "from keras.layers.advanced_activations import LeakyReLU"
   ]
  },
  {
   "cell_type": "code",
   "execution_count": 17,
   "metadata": {},
   "outputs": [],
   "source": [
    "batch_size = 64\n",
    "epochs = 20\n",
    "num_classes = 10\n",
    "input_shape = (None,28,28,1)"
   ]
  },
  {
   "cell_type": "code",
   "execution_count": 18,
   "metadata": {},
   "outputs": [],
   "source": [
    "fashion_model = Sequential()\n",
    "fashion_model.add(Conv2D(32, kernel_size=(3, 3),activation='linear',padding='same',input_shape=(28,28,1)))\n",
    "fashion_model.add(LeakyReLU(alpha=0.1))\n",
    "fashion_model.add(MaxPooling2D((2, 2),padding='same'))\n",
    "fashion_model.add(Dropout(0.25))\n",
    "fashion_model.add(Conv2D(64, (3, 3), activation='linear',padding='same'))\n",
    "fashion_model.add(LeakyReLU(alpha=0.1))\n",
    "fashion_model.add(MaxPooling2D(pool_size=(2, 2),padding='same'))\n",
    "fashion_model.add(Dropout(0.25))\n",
    "fashion_model.add(Conv2D(128, (3, 3), activation='linear',padding='same'))\n",
    "fashion_model.add(LeakyReLU(alpha=0.1))                  \n",
    "fashion_model.add(MaxPooling2D(pool_size=(2, 2),padding='same'))\n",
    "fashion_model.add(Dropout(0.4))\n",
    "fashion_model.add(Flatten())\n",
    "fashion_model.add(Dense(128, activation='linear'))\n",
    "fashion_model.add(LeakyReLU(alpha=0.1))           \n",
    "fashion_model.add(Dropout(0.3))\n",
    "fashion_model.add(Dense(num_classes, activation='softmax'))"
   ]
  },
  {
   "cell_type": "code",
   "execution_count": 19,
   "metadata": {},
   "outputs": [],
   "source": [
    "fashion_model.compile(loss=keras.losses.categorical_crossentropy, optimizer=keras.optimizers.Adam(),metrics=['accuracy'])"
   ]
  },
  {
   "cell_type": "code",
   "execution_count": 20,
   "metadata": {},
   "outputs": [
    {
     "name": "stdout",
     "output_type": "stream",
     "text": [
      "Train on 48000 samples, validate on 12000 samples\n",
      "Epoch 1/20\n",
      "48000/48000 [==============================] - 97s 2ms/step - loss: 0.5974 - acc: 0.7771 - val_loss: 0.3560 - val_acc: 0.8702\n",
      "Epoch 2/20\n",
      "48000/48000 [==============================] - 94s 2ms/step - loss: 0.3767 - acc: 0.8612 - val_loss: 0.3110 - val_acc: 0.8818\n",
      "Epoch 3/20\n",
      "48000/48000 [==============================] - 96s 2ms/step - loss: 0.3310 - acc: 0.8774 - val_loss: 0.2907 - val_acc: 0.8920\n",
      "Epoch 4/20\n",
      "48000/48000 [==============================] - 93s 2ms/step - loss: 0.3083 - acc: 0.8860 - val_loss: 0.2707 - val_acc: 0.9011\n",
      "Epoch 5/20\n",
      "48000/48000 [==============================] - 98s 2ms/step - loss: 0.2877 - acc: 0.8929 - val_loss: 0.2555 - val_acc: 0.9043\n",
      "Epoch 6/20\n",
      "48000/48000 [==============================] - 103s 2ms/step - loss: 0.2724 - acc: 0.8975 - val_loss: 0.2534 - val_acc: 0.9074\n",
      "Epoch 7/20\n",
      "48000/48000 [==============================] - 91s 2ms/step - loss: 0.2600 - acc: 0.9031 - val_loss: 0.2551 - val_acc: 0.9034\n",
      "Epoch 8/20\n",
      "48000/48000 [==============================] - 92s 2ms/step - loss: 0.2518 - acc: 0.9059 - val_loss: 0.2311 - val_acc: 0.9149\n",
      "Epoch 9/20\n",
      "48000/48000 [==============================] - 94s 2ms/step - loss: 0.2455 - acc: 0.9079 - val_loss: 0.2485 - val_acc: 0.9077\n",
      "Epoch 10/20\n",
      "48000/48000 [==============================] - 91s 2ms/step - loss: 0.2369 - acc: 0.9109 - val_loss: 0.2292 - val_acc: 0.9159\n",
      "Epoch 11/20\n",
      "48000/48000 [==============================] - 98s 2ms/step - loss: 0.2328 - acc: 0.9126 - val_loss: 0.2281 - val_acc: 0.9151\n",
      "Epoch 12/20\n",
      "48000/48000 [==============================] - 103s 2ms/step - loss: 0.2247 - acc: 0.9149 - val_loss: 0.2194 - val_acc: 0.9172\n",
      "Epoch 13/20\n",
      "48000/48000 [==============================] - 99s 2ms/step - loss: 0.2222 - acc: 0.9168 - val_loss: 0.2414 - val_acc: 0.9100\n",
      "Epoch 14/20\n",
      "48000/48000 [==============================] - 99s 2ms/step - loss: 0.2179 - acc: 0.9179 - val_loss: 0.2450 - val_acc: 0.9111\n",
      "Epoch 15/20\n",
      "48000/48000 [==============================] - 95s 2ms/step - loss: 0.2138 - acc: 0.9192 - val_loss: 0.2169 - val_acc: 0.9197\n",
      "Epoch 16/20\n",
      "48000/48000 [==============================] - 85s 2ms/step - loss: 0.2118 - acc: 0.9206 - val_loss: 0.2126 - val_acc: 0.9228\n",
      "Epoch 17/20\n",
      "48000/48000 [==============================] - 83s 2ms/step - loss: 0.2074 - acc: 0.9210 - val_loss: 0.2271 - val_acc: 0.9183\n",
      "Epoch 18/20\n",
      "48000/48000 [==============================] - 83s 2ms/step - loss: 0.2030 - acc: 0.9228 - val_loss: 0.2055 - val_acc: 0.9262\n",
      "Epoch 19/20\n",
      "48000/48000 [==============================] - 83s 2ms/step - loss: 0.2035 - acc: 0.9226 - val_loss: 0.2164 - val_acc: 0.9197\n",
      "Epoch 20/20\n",
      "48000/48000 [==============================] - 83s 2ms/step - loss: 0.1964 - acc: 0.9256 - val_loss: 0.2147 - val_acc: 0.9233\n"
     ]
    }
   ],
   "source": [
    "fashion_train_dropout = fashion_model.fit(train_X, train_label, batch_size=batch_size,epochs=epochs,verbose=1,validation_data=(valid_X, valid_label))"
   ]
  },
  {
   "cell_type": "code",
   "execution_count": 21,
   "metadata": {},
   "outputs": [
    {
     "name": "stdout",
     "output_type": "stream",
     "text": [
      "_________________________________________________________________\n",
      "Layer (type)                 Output Shape              Param #   \n",
      "=================================================================\n",
      "conv2d_1 (Conv2D)            (None, 28, 28, 32)        320       \n",
      "_________________________________________________________________\n",
      "leaky_re_lu_1 (LeakyReLU)    (None, 28, 28, 32)        0         \n",
      "_________________________________________________________________\n",
      "max_pooling2d_1 (MaxPooling2 (None, 14, 14, 32)        0         \n",
      "_________________________________________________________________\n",
      "dropout_1 (Dropout)          (None, 14, 14, 32)        0         \n",
      "_________________________________________________________________\n",
      "conv2d_2 (Conv2D)            (None, 14, 14, 64)        18496     \n",
      "_________________________________________________________________\n",
      "leaky_re_lu_2 (LeakyReLU)    (None, 14, 14, 64)        0         \n",
      "_________________________________________________________________\n",
      "max_pooling2d_2 (MaxPooling2 (None, 7, 7, 64)          0         \n",
      "_________________________________________________________________\n",
      "dropout_2 (Dropout)          (None, 7, 7, 64)          0         \n",
      "_________________________________________________________________\n",
      "conv2d_3 (Conv2D)            (None, 7, 7, 128)         73856     \n",
      "_________________________________________________________________\n",
      "leaky_re_lu_3 (LeakyReLU)    (None, 7, 7, 128)         0         \n",
      "_________________________________________________________________\n",
      "max_pooling2d_3 (MaxPooling2 (None, 4, 4, 128)         0         \n",
      "_________________________________________________________________\n",
      "dropout_3 (Dropout)          (None, 4, 4, 128)         0         \n",
      "_________________________________________________________________\n",
      "flatten_1 (Flatten)          (None, 2048)              0         \n",
      "_________________________________________________________________\n",
      "dense_1 (Dense)              (None, 128)               262272    \n",
      "_________________________________________________________________\n",
      "leaky_re_lu_4 (LeakyReLU)    (None, 128)               0         \n",
      "_________________________________________________________________\n",
      "dropout_4 (Dropout)          (None, 128)               0         \n",
      "_________________________________________________________________\n",
      "dense_2 (Dense)              (None, 10)                1290      \n",
      "=================================================================\n",
      "Total params: 356,234\n",
      "Trainable params: 356,234\n",
      "Non-trainable params: 0\n",
      "_________________________________________________________________\n"
     ]
    }
   ],
   "source": [
    "fashion_model.build(input_shape)\n",
    "fashion_model.summary()"
   ]
  }
 ],
 "metadata": {
  "kernelspec": {
   "display_name": "Python 3",
   "language": "python",
   "name": "python3"
  },
  "language_info": {
   "codemirror_mode": {
    "name": "ipython",
    "version": 3
   },
   "file_extension": ".py",
   "mimetype": "text/x-python",
   "name": "python",
   "nbconvert_exporter": "python",
   "pygments_lexer": "ipython3",
   "version": "3.6.8"
  },
  "varInspector": {
   "cols": {
    "lenName": 16,
    "lenType": 16,
    "lenVar": 40
   },
   "kernels_config": {
    "python": {
     "delete_cmd_postfix": "",
     "delete_cmd_prefix": "del ",
     "library": "var_list.py",
     "varRefreshCmd": "print(var_dic_list())"
    },
    "r": {
     "delete_cmd_postfix": ") ",
     "delete_cmd_prefix": "rm(",
     "library": "var_list.r",
     "varRefreshCmd": "cat(var_dic_list()) "
    }
   },
   "types_to_exclude": [
    "module",
    "function",
    "builtin_function_or_method",
    "instance",
    "_Feature"
   ],
   "window_display": false
  }
 },
 "nbformat": 4,
 "nbformat_minor": 2
}
